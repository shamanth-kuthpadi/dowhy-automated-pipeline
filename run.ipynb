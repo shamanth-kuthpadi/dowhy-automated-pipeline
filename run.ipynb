{
 "cells": [
  {
   "cell_type": "code",
   "execution_count": 1,
   "metadata": {},
   "outputs": [
    {
     "name": "stderr",
     "output_type": "stream",
     "text": [
      "/Users/shamanthk/.pyenv/versions/3.10.14/lib/python3.10/site-packages/tqdm/auto.py:21: TqdmWarning: IProgress not found. Please update jupyter and ipywidgets. See https://ipywidgets.readthedocs.io/en/stable/user_install.html\n",
      "  from .autonotebook import tqdm as notebook_tqdm\n"
     ]
    }
   ],
   "source": [
    "from EstimateEffect import *"
   ]
  },
  {
   "cell_type": "code",
   "execution_count": 2,
   "metadata": {},
   "outputs": [
    {
     "data": {
      "text/html": [
       "<div>\n",
       "<style scoped>\n",
       "    .dataframe tbody tr th:only-of-type {\n",
       "        vertical-align: middle;\n",
       "    }\n",
       "\n",
       "    .dataframe tbody tr th {\n",
       "        vertical-align: top;\n",
       "    }\n",
       "\n",
       "    .dataframe thead th {\n",
       "        text-align: right;\n",
       "    }\n",
       "</style>\n",
       "<table border=\"1\" class=\"dataframe\">\n",
       "  <thead>\n",
       "    <tr style=\"text-align: right;\">\n",
       "      <th></th>\n",
       "      <th>raf</th>\n",
       "      <th>mek</th>\n",
       "      <th>plc</th>\n",
       "      <th>pip2</th>\n",
       "      <th>pip3</th>\n",
       "      <th>erk</th>\n",
       "      <th>akt</th>\n",
       "      <th>pka</th>\n",
       "      <th>pkc</th>\n",
       "      <th>p38</th>\n",
       "      <th>jnk</th>\n",
       "    </tr>\n",
       "  </thead>\n",
       "  <tbody>\n",
       "    <tr>\n",
       "      <th>0</th>\n",
       "      <td>26.4</td>\n",
       "      <td>13.2</td>\n",
       "      <td>8.82</td>\n",
       "      <td>18.30</td>\n",
       "      <td>58.80</td>\n",
       "      <td>6.61</td>\n",
       "      <td>17.0</td>\n",
       "      <td>414.0</td>\n",
       "      <td>17.00</td>\n",
       "      <td>44.9</td>\n",
       "      <td>40.0</td>\n",
       "    </tr>\n",
       "    <tr>\n",
       "      <th>1</th>\n",
       "      <td>35.9</td>\n",
       "      <td>16.5</td>\n",
       "      <td>12.30</td>\n",
       "      <td>16.80</td>\n",
       "      <td>8.13</td>\n",
       "      <td>18.60</td>\n",
       "      <td>32.5</td>\n",
       "      <td>352.0</td>\n",
       "      <td>3.37</td>\n",
       "      <td>16.5</td>\n",
       "      <td>61.5</td>\n",
       "    </tr>\n",
       "    <tr>\n",
       "      <th>2</th>\n",
       "      <td>59.4</td>\n",
       "      <td>44.1</td>\n",
       "      <td>14.60</td>\n",
       "      <td>10.20</td>\n",
       "      <td>13.00</td>\n",
       "      <td>14.90</td>\n",
       "      <td>32.5</td>\n",
       "      <td>403.0</td>\n",
       "      <td>11.40</td>\n",
       "      <td>31.9</td>\n",
       "      <td>19.5</td>\n",
       "    </tr>\n",
       "    <tr>\n",
       "      <th>3</th>\n",
       "      <td>73.0</td>\n",
       "      <td>82.8</td>\n",
       "      <td>23.10</td>\n",
       "      <td>13.50</td>\n",
       "      <td>1.29</td>\n",
       "      <td>5.83</td>\n",
       "      <td>11.8</td>\n",
       "      <td>528.0</td>\n",
       "      <td>13.70</td>\n",
       "      <td>28.6</td>\n",
       "      <td>23.1</td>\n",
       "    </tr>\n",
       "    <tr>\n",
       "      <th>4</th>\n",
       "      <td>33.7</td>\n",
       "      <td>19.8</td>\n",
       "      <td>5.19</td>\n",
       "      <td>9.73</td>\n",
       "      <td>24.80</td>\n",
       "      <td>21.10</td>\n",
       "      <td>46.1</td>\n",
       "      <td>305.0</td>\n",
       "      <td>4.66</td>\n",
       "      <td>25.7</td>\n",
       "      <td>81.3</td>\n",
       "    </tr>\n",
       "  </tbody>\n",
       "</table>\n",
       "</div>"
      ],
      "text/plain": [
       "    raf   mek    plc   pip2   pip3    erk   akt    pka    pkc   p38   jnk\n",
       "0  26.4  13.2   8.82  18.30  58.80   6.61  17.0  414.0  17.00  44.9  40.0\n",
       "1  35.9  16.5  12.30  16.80   8.13  18.60  32.5  352.0   3.37  16.5  61.5\n",
       "2  59.4  44.1  14.60  10.20  13.00  14.90  32.5  403.0  11.40  31.9  19.5\n",
       "3  73.0  82.8  23.10  13.50   1.29   5.83  11.8  528.0  13.70  28.6  23.1\n",
       "4  33.7  19.8   5.19   9.73  24.80  21.10  46.1  305.0   4.66  25.7  81.3"
      ]
     },
     "execution_count": 2,
     "metadata": {},
     "output_type": "execute_result"
    }
   ],
   "source": [
    "df = load_from_txt('/Users/shamanthk/Documents/eval-dowhy-caunex/datasets/sachs.2005.continuous.txt')\n",
    "labels = df.columns\n",
    "df.head()"
   ]
  },
  {
   "cell_type": "code",
   "execution_count": 3,
   "metadata": {},
   "outputs": [],
   "source": [
    "effest = EstimateEffect(df, treatment='pka', outcome='pip2')"
   ]
  },
  {
   "cell_type": "code",
   "execution_count": 4,
   "metadata": {},
   "outputs": [
    {
     "name": "stderr",
     "output_type": "stream",
     "text": [
      "Test permutations of given graph: 100%|██████████| 100/100 [04:12<00:00,  2.52s/it]\n"
     ]
    },
    {
     "data": {
      "text/plain": [
       "<dowhy.causal_estimator.CausalEstimate at 0x16fdd6b90>"
      ]
     },
     "execution_count": 4,
     "metadata": {},
     "output_type": "execute_result"
    }
   ],
   "source": [
    "effest.perform_effect_estimation()"
   ]
  },
  {
   "cell_type": "code",
   "execution_count": 12,
   "metadata": {},
   "outputs": [
    {
     "name": "stdout",
     "output_type": "stream",
     "text": [
      "*** Causal Estimate ***\n",
      "\n",
      "## Identified estimand\n",
      "Estimand type: EstimandType.NONPARAMETRIC_ATE\n",
      "\n",
      "### Estimand : 1\n",
      "Estimand name: backdoor\n",
      "Estimand expression:\n",
      "  d            \n",
      "──────(E[pip₂])\n",
      "d[pka]         \n",
      "Estimand assumption 1, Unconfoundedness: If U→{pka} and U→pip2 then P(pip2|pka,,U) = P(pip2|pka,)\n",
      "\n",
      "## Realized estimand\n",
      "b: pip2~pka+pka*pkc+pka*akt+pka*pip3\n",
      "Target units: \n",
      "\n",
      "## Estimate\n",
      "Mean value: -0.08018573440912746\n",
      "p-value: [2.90246638e-66]\n",
      "95.0% confidence interval: (-0.09380852375014115, -0.053104803170043624)\n",
      "### Conditional Estimates\n",
      "__categorical__pkc  __categorical__akt  __categorical__pip3\n",
      "(0.999, 3.05]       (0.999, 20.7]       (0.999, 8.06]         -0.119527\n",
      "                                        (8.06, 14.1]          -0.114791\n",
      "                                        (14.1, 22.3]          -0.110299\n",
      "                                        (22.3, 38.2]          -0.102303\n",
      "                                        (38.2, 1275.0]        -0.075111\n",
      "                                                                 ...   \n",
      "(27.1, 1611.0]      (91.4, 3555.0]      (0.999, 8.06]          0.017772\n",
      "                                        (8.06, 14.1]           0.038150\n",
      "                                        (14.1, 22.3]           0.016291\n",
      "                                        (22.3, 38.2]           0.029117\n",
      "                                        (38.2, 1275.0]         0.070230\n",
      "Length: 125, dtype: float64\n"
     ]
    }
   ],
   "source": [
    "print(_.estimate)"
   ]
  },
  {
   "cell_type": "code",
   "execution_count": null,
   "metadata": {},
   "outputs": [],
   "source": []
  }
 ],
 "metadata": {
  "kernelspec": {
   "display_name": "Python 3",
   "language": "python",
   "name": "python3"
  },
  "language_info": {
   "codemirror_mode": {
    "name": "ipython",
    "version": 3
   },
   "file_extension": ".py",
   "mimetype": "text/x-python",
   "name": "python",
   "nbconvert_exporter": "python",
   "pygments_lexer": "ipython3",
   "version": "3.10.14"
  }
 },
 "nbformat": 4,
 "nbformat_minor": 2
}
